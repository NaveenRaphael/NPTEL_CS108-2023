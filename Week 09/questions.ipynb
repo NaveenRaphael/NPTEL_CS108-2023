{
 "cells": [
  {
   "cell_type": "markdown",
   "metadata": {},
   "source": [
    "Class will start at **6pm**\n",
    "==\n",
    "\n",
    "Today's class will be a revision of all the concept done in the last 2 months"
   ]
  },
  {
   "cell_type": "code",
   "execution_count": 152,
   "metadata": {},
   "outputs": [],
   "source": [
    "#Ignore this cell\n",
    "question = 0\n",
    "def whats_the_output(*s, end=\"\\n\", sep=\" \"):\n",
    "    global question\n",
    "    question = question+1\n",
    "    print(f\"Question no. {question}\")\n",
    "    print(*s, end=end, sep=sep)"
   ]
  },
  {
   "cell_type": "code",
   "execution_count": 153,
   "metadata": {},
   "outputs": [
    {
     "name": "stdout",
     "output_type": "stream",
     "text": [
      "Question no. 1\n",
      "52\n"
     ]
    }
   ],
   "source": [
    "# We start with numbers\n",
    "\n",
    "# What is the output of this?\n",
    "# (whats_the_output is just a function i wrote for printing)\n",
    "whats_the_output( 7 + 5 * 3 ** 2)"
   ]
  },
  {
   "cell_type": "code",
   "execution_count": 154,
   "metadata": {},
   "outputs": [
    {
     "name": "stdout",
     "output_type": "stream",
     "text": [
      "Question no. 2\n",
      "False\n",
      "Question no. 3\n",
      "False\n",
      "Question no. 4\n",
      "True\n",
      "Question no. 5\n",
      "True\n"
     ]
    }
   ],
   "source": [
    "whats_the_output( 3 >= 5 )\n",
    "\n",
    "# There are other operations in python, like bitwise operations, but we will not be covering that\n",
    "\n",
    "# 3 ^ 3 \n",
    "\n",
    "whats_the_output( 2 > 4 > 7)\n",
    "\n",
    "whats_the_output( 4<5<6 )\n",
    "whats_the_output( 7>6>5 )"
   ]
  },
  {
   "cell_type": "code",
   "execution_count": 155,
   "metadata": {},
   "outputs": [
    {
     "name": "stdout",
     "output_type": "stream",
     "text": [
      "Question no. 6\n",
      "False\n",
      "Question no. 7\n",
      "False\n",
      "Question no. 8\n",
      "True\n"
     ]
    }
   ],
   "source": [
    "# Booleans\n",
    "\n",
    "whats_the_output( True and False )\n",
    "whats_the_output( False or False )\n",
    "whats_the_output( not False )\n"
   ]
  },
  {
   "cell_type": "code",
   "execution_count": 156,
   "metadata": {},
   "outputs": [
    {
     "name": "stdout",
     "output_type": "stream",
     "text": [
      "Hello there\n",
      "2 + 3 is 5\n",
      "../Week 9/\n",
      "Question no. 9\n",
      "***************\n",
      "Question no. 10\n",
      "nananananananananana batman\n"
     ]
    }
   ],
   "source": [
    "#Strings\n",
    "\n",
    "print(\"Hello there\")\n",
    "print(f\"2 + 3 is {2+3}\")\n",
    "print(r\"../Week 9/\")\n",
    "\n",
    "whats_the_output(\"*\" * 5 * 3)\n",
    "\n",
    "whats_the_output(\"na\" * 10 + \" batman\")\n"
   ]
  },
  {
   "cell_type": "code",
   "execution_count": 157,
   "metadata": {},
   "outputs": [
    {
     "name": "stdout",
     "output_type": "stream",
     "text": [
      "Question no. 11\n",
      "Hello there\n",
      "General Kenobi!\n",
      "Question no. 12\n",
      "Hello there\n",
      "General Kenobi!\n",
      "Question no. 13\n",
      "89.0\n"
     ]
    }
   ],
   "source": [
    "# variables\n",
    "\n",
    "a = \"Hello there\"\n",
    "b = \"General Kenobi!\"\n",
    "\n",
    "whats_the_output(a, b, sep=\"\\n\")\n",
    "\n",
    "whats_the_output( a+\"\\n\"+b )\n",
    "\n",
    "c = 9\n",
    "\n",
    "whats_the_output( c + c*c - c/c )"
   ]
  },
  {
   "cell_type": "code",
   "execution_count": 158,
   "metadata": {},
   "outputs": [
    {
     "name": "stdout",
     "output_type": "stream",
     "text": [
      "Question no. 14\n",
      "9\n",
      "Question no. 15\n",
      "None\n",
      "Question no. 16\n",
      "6\n"
     ]
    }
   ],
   "source": [
    "# functions\n",
    "\n",
    "def f1():\n",
    "    return 2**3+1\n",
    "\n",
    "whats_the_output(f1())\n",
    "\n",
    "def f2():\n",
    "    a = 2\n",
    "    b = 3\n",
    "    \n",
    "    c= a**b +1\n",
    "\n",
    "whats_the_output(f2())\n",
    "\n",
    "def f3(a):\n",
    "    return a + a * a \n",
    "\n",
    "whats_the_output(f3(2))\n"
   ]
  },
  {
   "cell_type": "code",
   "execution_count": 159,
   "metadata": {},
   "outputs": [
    {
     "name": "stdout",
     "output_type": "stream",
     "text": [
      "Question no. 17\n",
      "[1, 2, 4, 2, 3]\n",
      "Question no. 18\n",
      "Is 3 the length of [1, 3, 5]?\n",
      "Question no. 19\n",
      "[(0, 1), (1, 3), (2, 5)]\n"
     ]
    }
   ],
   "source": [
    "# Lists\n",
    "\n",
    "whats_the_output([1,2,4] + [2,3])\n",
    "\n",
    "a = [1,3,5]\n",
    "\n",
    "whats_the_output(f\"Is {len(a)} the length of {a}?\")\n",
    "\n",
    "whats_the_output(list(enumerate(a)))\n"
   ]
  },
  {
   "cell_type": "code",
   "execution_count": 160,
   "metadata": {},
   "outputs": [
    {
     "name": "stdout",
     "output_type": "stream",
     "text": [
      "Question no. 20\n",
      "Is 4 the length of [1, 3, 5, 4]?\n",
      "Question no. 21\n",
      "[(0, 1), (1, 3), (2, 5), (3, 4)]\n"
     ]
    }
   ],
   "source": [
    "a.append(4)\n",
    "\n",
    "whats_the_output(f\"Is {len(a)} the length of {a}?\")\n",
    "\n",
    "whats_the_output(list(enumerate(a)))\n"
   ]
  },
  {
   "cell_type": "code",
   "execution_count": 161,
   "metadata": {},
   "outputs": [
    {
     "name": "stdout",
     "output_type": "stream",
     "text": [
      "Question no. 22\n",
      "\n",
      "11\n",
      "23\n"
     ]
    }
   ],
   "source": [
    "a = 23\n",
    "\n",
    "whats_the_output()\n",
    "def f1():\n",
    "    a = 11\n",
    "    print(a)\n",
    "\n",
    "f1()\n",
    "print(a)\n"
   ]
  },
  {
   "cell_type": "code",
   "execution_count": 162,
   "metadata": {},
   "outputs": [
    {
     "name": "stdout",
     "output_type": "stream",
     "text": [
      "Question no. 23\n",
      "\n",
      "11\n",
      "23\n"
     ]
    }
   ],
   "source": [
    "a = 23\n",
    "\n",
    "whats_the_output()\n",
    "def f1(a):\n",
    "    a = 11\n",
    "    print(a)\n",
    "\n",
    "f1(a)\n",
    "print(a)\n"
   ]
  },
  {
   "cell_type": "code",
   "execution_count": 163,
   "metadata": {},
   "outputs": [
    {
     "name": "stdout",
     "output_type": "stream",
     "text": [
      "Question no. 24\n",
      "\n",
      "11\n",
      "[23]\n"
     ]
    }
   ],
   "source": [
    "\n",
    "a = [23]\n",
    "\n",
    "whats_the_output()\n",
    "def f1(a):\n",
    "    a = 11\n",
    "    print(a)\n",
    "\n",
    "f1(a)\n",
    "print(a)\n"
   ]
  },
  {
   "cell_type": "code",
   "execution_count": 164,
   "metadata": {},
   "outputs": [
    {
     "name": "stdout",
     "output_type": "stream",
     "text": [
      "Question no. 25\n",
      "\n",
      "[11]\n",
      "[23]\n"
     ]
    }
   ],
   "source": [
    "a = [23]\n",
    "\n",
    "\n",
    "whats_the_output()\n",
    "def f1(a):\n",
    "    a = [11]\n",
    "    print(a)\n",
    "\n",
    "f1(a)\n",
    "print(a)\n"
   ]
  },
  {
   "cell_type": "code",
   "execution_count": 165,
   "metadata": {},
   "outputs": [
    {
     "name": "stdout",
     "output_type": "stream",
     "text": [
      "Question no. 26\n",
      "[23, 11]\n",
      "Question no. 27\n",
      "[23, 11]\n"
     ]
    }
   ],
   "source": [
    "a = [23]\n",
    "\n",
    "def f1(a):\n",
    "    a.append(11)\n",
    "    whats_the_output(a)\n",
    "\n",
    "f1(a)\n",
    "whats_the_output(a)"
   ]
  },
  {
   "cell_type": "code",
   "execution_count": 166,
   "metadata": {},
   "outputs": [
    {
     "name": "stdout",
     "output_type": "stream",
     "text": [
      "Question no. 28\n",
      "20 10\n"
     ]
    }
   ],
   "source": [
    "# Tuples\n",
    "\n",
    "def f(a,b):\n",
    "\n",
    "    a,b = b,a\n",
    "\n",
    "    whats_the_output(a,b)\n",
    "\n",
    "a = 10\n",
    "b = 20\n",
    "\n",
    "f(a,b)"
   ]
  },
  {
   "cell_type": "code",
   "execution_count": 167,
   "metadata": {},
   "outputs": [
    {
     "name": "stdout",
     "output_type": "stream",
     "text": [
      "Question no. 29\n",
      "False\n"
     ]
    }
   ],
   "source": [
    "# Dictionaries\n",
    "\n",
    "a = {}\n",
    "\n",
    "a[0] = 10\n",
    "a[1] = 20\n",
    "a[2] = 30\n",
    "a[3] = 50\n",
    "\n",
    "whats_the_output(a == [10, 20, 30, 50])"
   ]
  },
  {
   "cell_type": "code",
   "execution_count": 168,
   "metadata": {},
   "outputs": [
    {
     "name": "stdout",
     "output_type": "stream",
     "text": [
      "Question no. 30\n",
      "\n",
      "True\n",
      "True\n",
      "True\n",
      "True\n"
     ]
    }
   ],
   "source": [
    "b = [10, 20, 30, 50]\n",
    "\n",
    "whats_the_output()\n",
    "\n",
    "print(a[0] == b[0])\n",
    "print(a[1] == b[1])\n",
    "print(a[2] == b[2])\n",
    "print(a[3] == b[3])"
   ]
  },
  {
   "cell_type": "code",
   "execution_count": 169,
   "metadata": {},
   "outputs": [
    {
     "name": "stdout",
     "output_type": "stream",
     "text": [
      "Question no. 31\n",
      "{0: 10, 1: 20, 2: 30, 3: 'Cats'}\n"
     ]
    }
   ],
   "source": [
    "a[3] = \"Cats\"\n",
    "\n",
    "whats_the_output(a)"
   ]
  },
  {
   "cell_type": "code",
   "execution_count": 170,
   "metadata": {},
   "outputs": [
    {
     "name": "stdout",
     "output_type": "stream",
     "text": [
      "Question no. 32\n",
      "\n",
      "SZETH-SON-SON-VALLANO\n",
      "WEARS\n",
      "WHITE\n",
      "ON\n",
      "A\n",
      "DAY\n",
      "HE\n",
      "IS\n",
      "TO\n",
      "KILL\n",
      "A\n",
      "KING\n"
     ]
    }
   ],
   "source": [
    "text = \"Szeth-son-son-Vallano wears white on a day he is to kill a king\"\n",
    "\n",
    "whats_the_output()\n",
    "for word in text.split():\n",
    "    print(word.upper())"
   ]
  },
  {
   "cell_type": "code",
   "execution_count": 171,
   "metadata": {},
   "outputs": [
    {
     "name": "stdout",
     "output_type": "stream",
     "text": [
      "Question no. 33\n",
      "\n"
     ]
    },
    {
     "data": {
      "text/plain": [
       "[<matplotlib.lines.Line2D at 0x1d5cf817ca0>]"
      ]
     },
     "execution_count": 171,
     "metadata": {},
     "output_type": "execute_result"
    },
    {
     "data": {
      "image/png": "[encoded data removed]",
      "text/plain": [
       "<Figure size 640x480 with 1 Axes>"
      ]
     },
     "metadata": {},
     "output_type": "display_data"
    }
   ],
   "source": [
    "import numpy as np\n",
    "import matplotlib.pyplot as plt\n",
    "import numpy.random as rand\n",
    "\n",
    "whats_the_output()\n",
    "\n",
    "x = np.linspace(0, 10, endpoint=True)\n",
    "y = np.sin(x) + rand.normal(0, 0.01, size=len(x))\n",
    "\n",
    "plt.plot(x,y)\n"
   ]
  },
  {
   "cell_type": "code",
   "execution_count": 172,
   "metadata": {},
   "outputs": [
    {
     "name": "stdout",
     "output_type": "stream",
     "text": [
      "[(0, 1), (1, 3), (2, 5)]\n",
      "[(0, 1), (1, 3), (2, 5)]\n"
     ]
    }
   ],
   "source": [
    "print(list(enumerate(range(1,6, 2))))\n",
    "print(list(my_enumerate(range(1,6, 2))))\n"
   ]
  },
  {
   "cell_type": "code",
   "execution_count": 173,
   "metadata": {},
   "outputs": [
    {
     "data": {
      "text/plain": [
       "[1, 3, 5]"
      ]
     },
     "execution_count": 173,
     "metadata": {},
     "output_type": "execute_result"
    }
   ],
   "source": [
    "list(range(1,6,2))"
   ]
  },
  {
   "cell_type": "code",
   "execution_count": 174,
   "metadata": {},
   "outputs": [],
   "source": [
    "def my_enumerate(q):\n",
    "    i = 0\n",
    "    for el in q:\n",
    "        yield (i, el)\n",
    "        i = i+1"
   ]
  },
  {
   "cell_type": "code",
   "execution_count": 175,
   "metadata": {},
   "outputs": [
    {
     "data": {
      "text/plain": [
       "<generator object my_enumerate at 0x000001D5CF7E8900>"
      ]
     },
     "execution_count": 175,
     "metadata": {},
     "output_type": "execute_result"
    }
   ],
   "source": [
    "my_enumerate([1,2,5,6])"
   ]
  },
  {
   "cell_type": "code",
   "execution_count": 176,
   "metadata": {},
   "outputs": [],
   "source": [
    "def get_number():\n",
    "    i = -1\n",
    "    while True:\n",
    "        i = i+1\n",
    "        yield i"
   ]
  },
  {
   "cell_type": "code",
   "execution_count": 177,
   "metadata": {},
   "outputs": [],
   "source": [
    "k = get_number()"
   ]
  },
  {
   "cell_type": "code",
   "execution_count": 178,
   "metadata": {},
   "outputs": [
    {
     "name": "stdout",
     "output_type": "stream",
     "text": [
      "0\n",
      "1\n",
      "2\n",
      "3\n",
      "4\n",
      "5\n",
      "6\n",
      "7\n",
      "8\n",
      "9\n",
      "10\n"
     ]
    }
   ],
   "source": [
    "for i in get_number():\n",
    "    print(i)\n",
    "    if i >= 10:\n",
    "        break"
   ]
  },
  {
   "cell_type": "code",
   "execution_count": 179,
   "metadata": {},
   "outputs": [],
   "source": [
    "fibo = [0, 1, 1, 2, 3, 5, 8, 13]"
   ]
  },
  {
   "cell_type": "code",
   "execution_count": 180,
   "metadata": {},
   "outputs": [
    {
     "name": "stdout",
     "output_type": "stream",
     "text": [
      "0\n",
      "1\n",
      "1\n",
      "2\n",
      "3\n",
      "5\n",
      "8\n",
      "13\n",
      "21\n",
      "34\n",
      "55\n",
      "89\n"
     ]
    }
   ],
   "source": [
    "def fibo_generator():\n",
    "    a = 0\n",
    "    yield a\n",
    "    b = 1\n",
    "    yield b\n",
    "    while True:\n",
    "        a, b = b, a+b\n",
    "        yield b\n",
    "\n",
    "\n",
    "for i in fibo_generator():\n",
    "    if i < 100:\n",
    "        print(i)\n",
    "    else:\n",
    "        break"
   ]
  },
  {
   "cell_type": "code",
   "execution_count": 181,
   "metadata": {},
   "outputs": [
    {
     "name": "stdout",
     "output_type": "stream",
     "text": [
      "(1, 2, 3, 4, 5, 6, 1) {'a': 2}\n"
     ]
    }
   ],
   "source": [
    "def add_them_all(*a, **kw):\n",
    "    print(a, kw)\n",
    "\n",
    "add_them_all(1,2,3,4,5,6,1, a=2 )"
   ]
  },
  {
   "cell_type": "code",
   "execution_count": 182,
   "metadata": {},
   "outputs": [
    {
     "data": {
      "text/plain": [
       "dict_keys(['a', 'b', 'g', 'sep'])"
      ]
     },
     "execution_count": 182,
     "metadata": {},
     "output_type": "execute_result"
    }
   ],
   "source": [
    "def get_keys_of_kw(*q, **kw):\n",
    "    return kw.keys()\n",
    "\n",
    "get_keys_of_kw(1,3,5,6,a=\"meow\", b= \"cat\", g = \"value\", sep = \"what\")"
   ]
  },
  {
   "cell_type": "code",
   "execution_count": 205,
   "metadata": {},
   "outputs": [
    {
     "name": "stdout",
     "output_type": "stream",
     "text": [
      "abcdefghijklmnopqrstuvwxyz\n"
     ]
    }
   ],
   "source": [
    "word='abcdefghijklmnopqrstuvwxyz' \n",
    "new='' \n",
    "\n",
    "def get_letter_index(s):\n",
    "    i = ord(s.lower())\n",
    "    return i - 97\n",
    "\n",
    "def get_letter_from_index(n):\n",
    "    return chr(n + 97)\n",
    "\n",
    "for w in word:  \n",
    "    j= (get_letter_index(w)+26 ) %26\n",
    "    new = new + get_letter_from_index(j) \n",
    "print(new)\n"
   ]
  },
  {
   "cell_type": "code",
   "execution_count": 185,
   "metadata": {},
   "outputs": [
    {
     "data": {
      "text/plain": [
       "4"
      ]
     },
     "execution_count": 185,
     "metadata": {},
     "output_type": "execute_result"
    }
   ],
   "source": [
    "ord('e') -97"
   ]
  },
  {
   "cell_type": "code",
   "execution_count": null,
   "metadata": {},
   "outputs": [],
   "source": []
  },
  {
   "cell_type": "markdown",
   "metadata": {},
   "source": [
    "$(a+ m) \\text{ mod } m = a \\text{ mod } m$"
   ]
  },
  {
   "cell_type": "code",
   "execution_count": 186,
   "metadata": {},
   "outputs": [
    {
     "name": "stdout",
     "output_type": "stream",
     "text": [
      "3 7\n",
      "8 2\n",
      "2 5\n",
      "6 2\n"
     ]
    }
   ],
   "source": [
    "## We have 2 dictionaries: D1, D2\n",
    "# print the key value pairs of D1 and D2 which are not present in the other\n",
    "\n",
    "## D1 = {1: 3, 4: 6, 2:5}\n",
    "\n",
    "## D2 = {1: 2, 3: 7, 8:2}\n",
    "\n",
    "def dictionary_difference(D1, D2):\n",
    "    for key in D1:\n",
    "        if key in D2:\n",
    "            continue\n",
    "        else: \n",
    "            print(key, D1[key])\n",
    "\n",
    "    for key in D2:\n",
    "        if key in D1:\n",
    "            continue\n",
    "        else: \n",
    "            print(key, D2[key])\n",
    "\n",
    "D1 = {\n",
    "    1: 2,\n",
    "    3: 7,\n",
    "    8: 2 \n",
    "}\n",
    "\n",
    "D2 = {\n",
    "    1: 2,\n",
    "    2: 5,\n",
    "    6: 2 \n",
    "}\n",
    "\n",
    "dictionary_difference(D1, D2)\n",
    "#Output: ((4,6), (2,5), (3, 7), (8,2))"
   ]
  },
  {
   "cell_type": "code",
   "execution_count": 187,
   "metadata": {},
   "outputs": [
    {
     "name": "stdout",
     "output_type": "stream",
     "text": [
      "11\n",
      "11\n"
     ]
    }
   ],
   "source": [
    "a = 23\n",
    "\n",
    "def fun():\n",
    "    global a\n",
    "    a = 11\n",
    "    print(a)\n",
    "\n",
    "fun()\n",
    "print(a)"
   ]
  },
  {
   "cell_type": "code",
   "execution_count": 1,
   "metadata": {},
   "outputs": [],
   "source": [
    "from selenium import webdriver\n",
    "\n",
    "\n",
    "from selenium.webdriver.common.keys import Keys\n",
    "from selenium.webdriver.common.by import By\n",
    "from selenium.webdriver.support.ui import Select"
   ]
  },
  {
   "cell_type": "code",
   "execution_count": 9,
   "metadata": {},
   "outputs": [],
   "source": [
    "driver = webdriver.Firefox()\n",
    "\n"
   ]
  },
  {
   "cell_type": "code",
   "execution_count": 4,
   "metadata": {},
   "outputs": [],
   "source": [
    "driver.get(\"https://www.duckduckgo.com\")"
   ]
  },
  {
   "cell_type": "code",
   "execution_count": 6,
   "metadata": {},
   "outputs": [],
   "source": [
    "elem = driver.find_element(By.ID, \"searchbox_input\")\n",
    "elem.send_keys(\"hello\")\n"
   ]
  },
  {
   "cell_type": "code",
   "execution_count": 196,
   "metadata": {},
   "outputs": [],
   "source": [
    "elem = driver.find_element(By.ID, \"identifierId\")\n",
    "elem.send_keys(\"some text\")"
   ]
  },
  {
   "cell_type": "code",
   "execution_count": 7,
   "metadata": {},
   "outputs": [],
   "source": [
    "driver.close()"
   ]
  },
  {
   "cell_type": "code",
   "execution_count": null,
   "metadata": {},
   "outputs": [],
   "source": []
  },
  {
   "cell_type": "markdown",
   "metadata": {},
   "source": [
    "# Class is over..."
   ]
  }
 ],
 "metadata": {
  "kernelspec": {
   "display_name": "base",
   "language": "python",
   "name": "python3"
  },
  "language_info": {
   "codemirror_mode": {
    "name": "ipython",
    "version": 3
   },
   "file_extension": ".py",
   "mimetype": "text/x-python",
   "name": "python",
   "nbconvert_exporter": "python",
   "pygments_lexer": "ipython3",
   "version": "3.9.13"
  },
  "orig_nbformat": 4
 },
 "nbformat": 4,
 "nbformat_minor": 2
}
