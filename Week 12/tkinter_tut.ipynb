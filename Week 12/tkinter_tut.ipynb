{
 "cells": [
  {
   "cell_type": "markdown",
   "metadata": {},
   "source": [
    "## Class will start at 6pm\n",
    "\n",
    "Agenda for today's class - Tkinter!\n",
    "\n",
    "refer: https://realpython.com/python-gui-tkinter/ and/or https://tkdocs.com/tutorial/ (But note the second link is significantly more thorough)\n",
    "\n",
    "\n",
    "\n",
    "GUI : Graphical User Interface\n",
    "CLI: Command Line Interface"
   ]
  },
  {
   "cell_type": "code",
   "execution_count": null,
   "metadata": {},
   "outputs": [],
   "source": [
    "%gui tk\n",
    "\n",
    "import tkinter as tk\n",
    "import tkinter.ttk as ttk"
   ]
  },
  {
   "cell_type": "code",
   "execution_count": 67,
   "metadata": {},
   "outputs": [
    {
     "data": {
      "text/plain": [
       "''"
      ]
     },
     "execution_count": 67,
     "metadata": {},
     "output_type": "execute_result"
    }
   ],
   "source": [
    "window = tk.Tk()\n",
    "window.title(string=\"Joy of Programming!\")"
   ]
  },
  {
   "cell_type": "code",
   "execution_count": 66,
   "metadata": {},
   "outputs": [],
   "source": [
    "window.destroy()"
   ]
  },
  {
   "cell_type": "code",
   "execution_count": null,
   "metadata": {},
   "outputs": [],
   "source": [
    "some_text = ttk.Label(window, text=\"Generic text!\")\n",
    "\n",
    "some_text.pack()"
   ]
  },
  {
   "cell_type": "code",
   "execution_count": null,
   "metadata": {},
   "outputs": [],
   "source": [
    "second_text = ttk.Label(window, text=\"More Generic text!\")\n",
    "\n",
    "second_text.pack()"
   ]
  },
  {
   "cell_type": "code",
   "execution_count": null,
   "metadata": {},
   "outputs": [],
   "source": [
    "some_text.configure(text=\"Not so generic now!\")"
   ]
  },
  {
   "cell_type": "code",
   "execution_count": null,
   "metadata": {},
   "outputs": [],
   "source": []
  },
  {
   "cell_type": "code",
   "execution_count": null,
   "metadata": {},
   "outputs": [],
   "source": [
    "def on_click():\n",
    "    second_text.configure(text=\"The text has been changed!\")\n",
    "\n",
    "button = ttk.Button(window, text=\"Do not click yet!\", command=on_click)\n",
    "button.pack()\n"
   ]
  },
  {
   "cell_type": "code",
   "execution_count": 64,
   "metadata": {},
   "outputs": [],
   "source": [
    "weight_frame = ttk.Frame(window)\n",
    "weight_frame.pack(anchor=\"w\")\n",
    "\n",
    "height_frame = ttk.Frame(window)\n",
    "height_frame.pack(anchor=\"w\")\n",
    "\n",
    "bmi_frame = ttk.Frame(window)\n",
    "bmi_frame.pack(anchor=\"w\")"
   ]
  },
  {
   "cell_type": "code",
   "execution_count": 65,
   "metadata": {},
   "outputs": [],
   "source": [
    "weight_text = ttk.Label(weight_frame, text=\"Weight:\")\n",
    "weight_text.pack()\n",
    "weight_input = ttk.Entry(weight_frame)\n",
    "weight_input.pack()\n",
    "\n",
    "height_input = ttk.Entry(height_frame)\n",
    "height_input.pack()\n",
    "\n"
   ]
  },
  {
   "cell_type": "code",
   "execution_count": null,
   "metadata": {},
   "outputs": [],
   "source": []
  },
  {
   "cell_type": "code",
   "execution_count": null,
   "metadata": {},
   "outputs": [],
   "source": [
    "window = tk.Tk()\n",
    "\n",
    "frame1 = tk.Frame(master=window, width=200, height=100, bg=\"red\")\n",
    "frame1.pack(fill=tk.BOTH, side=tk.LEFT, expand=True)\n",
    "\n",
    "frame2 = tk.Frame(master=window, width=100, bg=\"yellow\")\n",
    "frame2.pack(fill=tk.BOTH, side=tk.LEFT, expand=True)\n",
    "\n",
    "frame3 = tk.Frame(master=window, width=50, bg=\"blue\")\n",
    "frame3.pack(fill=tk.BOTH, side=tk.LEFT, expand=True)\n",
    "\n",
    "window.mainloop()"
   ]
  },
  {
   "cell_type": "code",
   "execution_count": null,
   "metadata": {},
   "outputs": [],
   "source": [
    "window = tk.Tk()\n",
    "\n",
    "def handle_keypress(event):\n",
    "    \"\"\"Print the character associated to the key pressed\"\"\"\n",
    "    print(event.char)\n",
    "\n",
    "# Bind keypress event to handle_keypress()\n",
    "window.bind(\"a\", handle_keypress)\n",
    "window.mainloop()\n"
   ]
  },
  {
   "cell_type": "code",
   "execution_count": null,
   "metadata": {},
   "outputs": [],
   "source": []
  },
  {
   "cell_type": "code",
   "execution_count": 92,
   "metadata": {},
   "outputs": [
    {
     "name": "stdout",
     "output_type": "stream",
     "text": [
      "Hello there\n",
      "\n",
      "Who would have guessed this to be a thing!\n",
      "\n",
      "Add text to the files!\n",
      "\n"
     ]
    }
   ],
   "source": [
    "from tkinter.filedialog import askopenfilename, asksaveasfilename\n",
    "\n",
    "def open_file():\n",
    "    \"\"\"Open a file for editing.\"\"\"\n",
    "    filepath = askopenfilename(\n",
    "        filetypes=[(\"Text Files\", \"*.txt\"), (\"All Files\", \"*.*\")]\n",
    "    )\n",
    "\n",
    "    if not filepath:\n",
    "        return\n",
    "\n",
    "    txt_edit.delete(\"1.0\", \"end\")\n",
    "\n",
    "    with open(filepath, mode=\"r\", encoding=\"utf-8\") as input_file:\n",
    "        text = input_file.read()\n",
    "        txt_edit.insert(tk.END, text)\n",
    "        print(text)\n",
    "\n",
    "    window.title(f\"Simple Text Editor - {filepath}\")\n",
    "\n",
    "\n",
    "def save_file():\n",
    "    \"\"\"Save the current file as a new file.\"\"\"\n",
    "    filepath = asksaveasfilename(\n",
    "        defaultextension=\".txt\",\n",
    "        filetypes=[(\"Text Files\", \"*.txt\"), (\"All Files\", \"*.*\")],\n",
    "    )\n",
    "\n",
    "    if not filepath:\n",
    "        return\n",
    "\n",
    "    with open(filepath, mode=\"w\", encoding=\"utf-8\") as output_file:\n",
    "        text = txt_edit.get(\"1.0\", tk.END)\n",
    "        output_file.write(text)\n",
    "    window.title(f\"Simple Text Editor - {filepath}\")\n",
    "\n",
    "window = tk.Tk()\n",
    "window.title(\"Simple Text Editor\")\n",
    "\n",
    "\n",
    "\n",
    "window.rowconfigure(0, minsize=800, weight=1)\n",
    "window.columnconfigure(1, minsize=800, weight=1)\n",
    "\n",
    "\n",
    "txt_edit = tk.Text(window)\n",
    "\n",
    "frm_buttons = tk.Frame(window, relief=tk.RAISED, bd=2)\n",
    "\n",
    "btn_open = ttk.Button(frm_buttons, text=\"Open\", command=open_file)\n",
    "btn_save = ttk.Button(frm_buttons, text=\"Save As...\", command=save_file)\n",
    "sampleText = tk.Entry(frm_buttons)\n",
    "\n",
    "btn_open.grid(row=0, column=0, sticky=\"ew\", padx=5, pady=5)\n",
    "btn_save.grid(row=1, column=0, sticky=\"ew\", padx=5)\n",
    "sampleText.grid(row= 2, column=0, sticky=\"ew\", padx=5)\n",
    "\n",
    "frm_buttons.grid(row=0, column=0, sticky=\"ns\")\n",
    "txt_edit.grid(row=0, column=1, sticky=\"nsew\")\n"
   ]
  },
  {
   "cell_type": "code",
   "execution_count": 87,
   "metadata": {},
   "outputs": [
    {
     "data": {
      "text/plain": [
       "'Icecream'"
      ]
     },
     "execution_count": 87,
     "metadata": {},
     "output_type": "execute_result"
    }
   ],
   "source": [
    "sampleText.get()"
   ]
  },
  {
   "cell_type": "code",
   "execution_count": 90,
   "metadata": {},
   "outputs": [
    {
     "data": {
      "text/plain": [
       "'Hell'"
      ]
     },
     "execution_count": 90,
     "metadata": {},
     "output_type": "execute_result"
    }
   ],
   "source": [
    "txt_edit.get(\"1.0\", \"1.4\")"
   ]
  },
  {
   "cell_type": "code",
   "execution_count": 99,
   "metadata": {},
   "outputs": [],
   "source": [
    "window = tk.Tk()\n",
    "\n",
    "show_region = tk.Label(window)\n",
    "\n",
    "button_region = tk.Frame(window)\n",
    "\n",
    "number_buttons = [ttk.Button(button_region, text=f\"{i}\") for i in range(10)]\n",
    "\n",
    "operation_button = {i: ttk.Button(button_region, text=f\"{i}\") for i in [\".\",\"=\", \"+\", \"-\", \"*\", r\"/\"]}\n",
    "\n",
    "number_buttons[0].grid(row=3, column=1, padx=4, pady=4)\n",
    "number_buttons[1].grid(row=2, column=0, padx=4, pady=4)\n",
    "number_buttons[2].grid(row=2, column=1, padx=4, pady=4)\n",
    "number_buttons[3].grid(row=2, column=2, padx=4, pady=4)\n",
    "number_buttons[4].grid(row=1, column=0, padx=4, pady=4)\n",
    "number_buttons[5].grid(row=1, column=1, padx=4, pady=4)\n",
    "number_buttons[6].grid(row=1, column=2, padx=4, pady=4)\n",
    "number_buttons[7].grid(row=0, column=0, padx=4, pady=4)\n",
    "number_buttons[8].grid(row=0, column=1, padx=4, pady=4)\n",
    "number_buttons[9].grid(row=0, column=2, padx=4, pady=4)\n",
    "\n",
    "operation_button[\"=\"].grid(row=3, column=3, padx=4, pady=4)\n",
    "operation_button[\".\"].grid(row=3, column=2, padx=4, pady=4)\n",
    "operation_button[\"+\"].grid(row=0, column=3, padx=4, pady=4)\n",
    "operation_button[\"-\"].grid(row=1, column=3, padx=4, pady=4)\n",
    "operation_button[\"*\"].grid(row=2, column=3, padx=4, pady=4)\n",
    "operation_button[r\"/\"].grid(row=3, column=0, padx=4, pady=4)\n",
    "\n",
    "show_region.grid(row=0, column=0)\n",
    "button_region.grid(row=1, column=0)\n"
   ]
  },
  {
   "cell_type": "code",
   "execution_count": null,
   "metadata": {},
   "outputs": [],
   "source": []
  }
 ],
 "metadata": {
  "kernelspec": {
   "display_name": "base",
   "language": "python",
   "name": "python3"
  },
  "language_info": {
   "codemirror_mode": {
    "name": "ipython",
    "version": 3
   },
   "file_extension": ".py",
   "mimetype": "text/x-python",
   "name": "python",
   "nbconvert_exporter": "python",
   "pygments_lexer": "ipython3",
   "version": "3.9.13"
  }
 },
 "nbformat": 4,
 "nbformat_minor": 2
}
