{
 "cells": [
  {
   "cell_type": "markdown",
   "metadata": {},
   "source": [
    "# Week 7\n",
    "\n",
    "The class will begin at 6pm\n",
    "\n",
    "1. Connect 4\n",
    "1. Python and the web"
   ]
  },
  {
   "cell_type": "markdown",
   "metadata": {},
   "source": [
    "### Things to do for Connect 4:\n",
    "\n",
    "1. Code a basic connect 4 game in the CLI\n",
    "    1. Get user input, and place tiles accordingly\n",
    "    2. Identify when a user wins\n",
    "2. Make this more interactive by drawing a board, and updating the board as the game continues"
   ]
  },
  {
   "cell_type": "code",
   "execution_count": 2,
   "metadata": {},
   "outputs": [],
   "source": [
    "from selenium import webdriver\n",
    "driver = webdriver.Firefox()\n",
    "\n",
    "user_input = \"mars\"\n",
    "\n",
    "driver.get(f\"https://en.wikipedia.org/wiki/{user_input}\")"
   ]
  },
  {
   "cell_type": "code",
   "execution_count": 5,
   "metadata": {},
   "outputs": [],
   "source": [
    "from selenium.webdriver.common.by import By\n",
    "\n",
    "a= driver.find_element(By.CLASS_NAME, \"frb-message\")"
   ]
  },
  {
   "cell_type": "code",
   "execution_count": 6,
   "metadata": {},
   "outputs": [
    {
     "data": {
      "text/plain": [
       "\"Wikipedia is not for sale.\\nA personal message from Jimmy Wales\\nSorry to interrupt, but it will soon be too late to help us in this short fundraiser. This Tuesday, 12 September, I humbly request you to reflect on the number of times you visited Wikipedia in the past year, the value you got from it, and whether you're able to contribute ₹ 25. If you can, kindly join the 2% of readers who donate. If everyone reading this right now gave ₹ 25, we'd reach our goal in a couple of hours.\\nWhen I set up the Wikimedia Foundation as a nonprofit to host Wikipedia and 12 other free knowledge projects, it meant that we could preserve our core values: neutral, high quality information, not outrage and sensationalism. Being a nonprofit means there is no danger that someone will buy Wikipedia and turn it into their personal space.\\nIf Wikipedia has given you ₹ 25 worth of knowledge this year, kindly donate now, it really matters. Thank you for your generosity!\""
      ]
     },
     "execution_count": 6,
     "metadata": {},
     "output_type": "execute_result"
    }
   ],
   "source": [
    "a.text"
   ]
  },
  {
   "cell_type": "code",
   "execution_count": 7,
   "metadata": {},
   "outputs": [],
   "source": [
    "driver.close()"
   ]
  },
  {
   "cell_type": "code",
   "execution_count": null,
   "metadata": {},
   "outputs": [],
   "source": []
  }
 ],
 "metadata": {
  "kernelspec": {
   "display_name": "base",
   "language": "python",
   "name": "python3"
  },
  "language_info": {
   "codemirror_mode": {
    "name": "ipython",
    "version": 3
   },
   "file_extension": ".py",
   "mimetype": "text/x-python",
   "name": "python",
   "nbconvert_exporter": "python",
   "pygments_lexer": "ipython3",
   "version": "3.9.13"
  },
  "orig_nbformat": 4
 },
 "nbformat": 4,
 "nbformat_minor": 2
}
