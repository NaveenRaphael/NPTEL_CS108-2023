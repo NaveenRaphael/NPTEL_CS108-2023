{
 "cells": [
  {
   "cell_type": "markdown",
   "metadata": {},
   "source": [
    "## Class will begin at *5*\n",
    "\n",
    "- Strings, Lists, Dictionaries\n",
    "- Functions\n",
    "- Important modules"
   ]
  },
  {
   "cell_type": "code",
   "execution_count": 4,
   "metadata": {},
   "outputs": [
    {
     "name": "stdout",
     "output_type": "stream",
     "text": [
      "42, 3.141527, Strings, True\n",
      "   42, 3.14, strings, True\n"
     ]
    }
   ],
   "source": [
    "# Basic Data Types\n",
    "\n",
    "a = 42\n",
    "b = 3.141527\n",
    "c = True\n",
    "\n",
    "print(f\"{a}, {b}, {c}\")\n",
    "print(f\"{a:5d}, {b:.2f}, {10 if c else 20}\")"
   ]
  },
  {
   "cell_type": "code",
   "execution_count": null,
   "metadata": {},
   "outputs": [],
   "source": [
    "# Iterator type data types\n",
    "# Strings, Lists, Sets, Dictionaries\n",
    "\n",
    "#Ideal in for loops"
   ]
  },
  {
   "cell_type": "code",
   "execution_count": 7,
   "metadata": {},
   "outputs": [
    {
     "name": "stdout",
     "output_type": "stream",
     "text": [
      "\n",
      "This is a string\n",
      "Taking 2 lines!\n",
      "\n"
     ]
    }
   ],
   "source": [
    "a='''\n",
    "This is a string\n",
    "Taking 2 lines!\n",
    "'''\n",
    "\n",
    "print(a)"
   ]
  },
  {
   "cell_type": "code",
   "execution_count": 9,
   "metadata": {},
   "outputs": [
    {
     "name": "stdout",
     "output_type": "stream",
     "text": [
      "i\n",
      "i\n",
      "a\n",
      "i\n",
      "a\n",
      "i\n",
      "i\n",
      "e\n"
     ]
    }
   ],
   "source": [
    "def is_vowel(s):\n",
    "    if s.lower() in ['a', 'e', 'i', 'o', 'u']:\n",
    "        return True\n",
    "    return False\n",
    "\n",
    "for letter in a:\n",
    "    # if is_vowel(letter):\n",
    "    if letter.lower() in ['a', 'e', 'i', 'o', 'u']:\n",
    "        print(letter)"
   ]
  },
  {
   "cell_type": "code",
   "execution_count": 11,
   "metadata": {},
   "outputs": [
    {
     "name": "stdout",
     "output_type": "stream",
     "text": [
      "[1, 2, 5, 3]\n",
      "4\n",
      "[1, 2, 5, 3, 1]\n",
      "5\n",
      "[1, 2, 5, 3, 1, 1]\n"
     ]
    }
   ],
   "source": [
    "a = [1,2,5,3]\n",
    "\n",
    "print(a)\n",
    "def get_count(a):\n",
    "    k = len(a)\n",
    "    a.append(1)\n",
    "    return k\n",
    "\n",
    "print(get_count(a))\n",
    "\n",
    "print(a)\n",
    "\n",
    "print(get_count(a))\n",
    "\n",
    "print(a)\n"
   ]
  },
  {
   "cell_type": "code",
   "execution_count": 12,
   "metadata": {},
   "outputs": [
    {
     "name": "stdout",
     "output_type": "stream",
     "text": [
      "[1, 4, 3, 6, 9, 2]\n",
      "9\n",
      "[1, 2, 3, 4, 6, 9]\n"
     ]
    }
   ],
   "source": [
    "q = [1,4,3,6,9,2]\n",
    "\n",
    "def get_largest(a):\n",
    "    a.sort()\n",
    "    return a[-1]\n",
    "\n",
    "print(q)\n",
    "print(get_largest(q))\n",
    "print(q)"
   ]
  },
  {
   "cell_type": "code",
   "execution_count": 13,
   "metadata": {},
   "outputs": [
    {
     "name": "stdout",
     "output_type": "stream",
     "text": [
      "1\n",
      "2\n",
      "3\n",
      "4\n",
      "6\n",
      "9\n"
     ]
    }
   ],
   "source": [
    "for item in q:\n",
    "    print(item)"
   ]
  },
  {
   "cell_type": "code",
   "execution_count": 16,
   "metadata": {},
   "outputs": [
    {
     "name": "stdout",
     "output_type": "stream",
     "text": [
      "q = 10\n",
      "\n",
      "b = 20\n",
      "\n",
      "c = q+b\n",
      "\n",
      "print(c)\n",
      "\n",
      "\n",
      "# If you hqve qny questions, feel free to qsk\n",
      "\n"
     ]
    }
   ],
   "source": [
    "s = \"\"\n",
    "with open(\"../Week1.py\") as f:\n",
    "    s = f.read()\n",
    "\n",
    "s= s.replace(\"a\", \"q\")\n"
   ]
  },
  {
   "cell_type": "code",
   "execution_count": null,
   "metadata": {},
   "outputs": [],
   "source": [
    "def name_of_function( inp):\n",
    "    return inp*inp\n"
   ]
  },
  {
   "cell_type": "code",
   "execution_count": null,
   "metadata": {},
   "outputs": [],
   "source": [
    "name_of_function = lambda inp: inp*inp"
   ]
  },
  {
   "cell_type": "code",
   "execution_count": 18,
   "metadata": {},
   "outputs": [
    {
     "data": {
      "text/plain": [
       "[4]"
      ]
     },
     "execution_count": 18,
     "metadata": {},
     "output_type": "execute_result"
    }
   ],
   "source": [
    "def unique(L):\n",
    "    number_of_elements = {}\n",
    "    for element in L:\n",
    "        if element in number_of_elements:\n",
    "            number_of_elements[element] += 1\n",
    "        else:\n",
    "            number_of_elements[element] = 1\n",
    "    \n",
    "    return [e for e in number_of_elements if number_of_elements[e]==1]\n",
    "\n",
    "def str2list(s:str):\n",
    "    return [int(c) for c in s.split()]\n",
    "\n",
    "unique(str2list(\"3 3 1 3 3 2 1 3 1 2 2 1 1 4 1 1 3 2 1 2\"))\n"
   ]
  },
  {
   "cell_type": "code",
   "execution_count": 24,
   "metadata": {},
   "outputs": [
    {
     "name": "stdout",
     "output_type": "stream",
     "text": [
      "3.1418588\n"
     ]
    }
   ],
   "source": [
    "import random\n",
    "\n",
    "N = 10000000\n",
    "count = 0\n",
    "for i in range(N):\n",
    "    x = random.uniform(-1, 1)\n",
    "    y = random.uniform(-1, 1)\n",
    "\n",
    "    if x**2 + y**2 <=1:\n",
    "        count = count +1\n",
    "\n",
    "print(count/N * 4)"
   ]
  },
  {
   "cell_type": "markdown",
   "metadata": {},
   "source": [
    "me22d009@smail.iitm.ac.in"
   ]
  }
 ],
 "metadata": {
  "kernelspec": {
   "display_name": "base",
   "language": "python",
   "name": "python3"
  },
  "language_info": {
   "codemirror_mode": {
    "name": "ipython",
    "version": 3
   },
   "file_extension": ".py",
   "mimetype": "text/x-python",
   "name": "python",
   "nbconvert_exporter": "python",
   "pygments_lexer": "ipython3",
   "version": "3.9.13"
  }
 },
 "nbformat": 4,
 "nbformat_minor": 2
}
