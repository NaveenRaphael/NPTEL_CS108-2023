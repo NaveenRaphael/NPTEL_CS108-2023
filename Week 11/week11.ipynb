{
 "cells": [
  {
   "cell_type": "markdown",
   "metadata": {},
   "source": [
    "Week 11\n",
    "===\n",
    "\n",
    "1. Understand the maze solving algorithm line by line\n",
    "2. **Classes!**"
   ]
  },
  {
   "cell_type": "code",
   "execution_count": 29,
   "metadata": {},
   "outputs": [],
   "source": [
    "import numpy as np"
   ]
  },
  {
   "cell_type": "code",
   "execution_count": 36,
   "metadata": {},
   "outputs": [
    {
     "name": "stdout",
     "output_type": "stream",
     "text": [
      "I AM NAVEEN\n",
      "My age is 25\n"
     ]
    }
   ],
   "source": [
    "class student:\n",
    "    def __init__(self, name:str, age:int) -> None:\n",
    "        self.name = name\n",
    "        self.age = age\n",
    "        self.marks = np.random.random((1,5))\n",
    "\n",
    "    def shout_name(self):\n",
    "        return f\"I AM {self.name.upper()}\"\n",
    "\n",
    "    def say_age(self):\n",
    "        return f\"My age is {self.age}\"\n",
    "    \n",
    "    def introduce(self):\n",
    "        return self.shout_name() +\"\\n\" + self.say_age()\n",
    "\n",
    "\n",
    "me = student(\"Naveen\", 25)\n",
    "fren = student(\"WLOG\", 42)\n",
    "# print(f\"My name is {me.name}, and I am {me.age} years old\")\n",
    "# print(f\"My Friend's name is {fren.name}, and they are {fren.age} years old\")\n",
    "print(me.introduce())\n"
   ]
  },
  {
   "cell_type": "code",
   "execution_count": 8,
   "metadata": {},
   "outputs": [
    {
     "data": {
      "text/plain": [
       "'Naveen'"
      ]
     },
     "execution_count": 8,
     "metadata": {},
     "output_type": "execute_result"
    }
   ],
   "source": [
    "me.name"
   ]
  },
  {
   "cell_type": "code",
   "execution_count": 23,
   "metadata": {},
   "outputs": [
    {
     "data": {
      "text/plain": [
       "array([[0.74874154, 0.68658724, 0.49246175],\n",
       "       [0.84992749, 0.14964269, 0.20142607],\n",
       "       [0.41441238, 0.2864108 , 0.4641158 ]])"
      ]
     },
     "execution_count": 23,
     "metadata": {},
     "output_type": "execute_result"
    }
   ],
   "source": [
    "import numpy as np\n",
    "\n",
    "a = np.random.random((3,3))\n",
    "a"
   ]
  },
  {
   "cell_type": "code",
   "execution_count": 25,
   "metadata": {},
   "outputs": [
    {
     "data": {
      "text/plain": [
       "array([0.74874154, 0.14964269, 0.4641158 ])"
      ]
     },
     "execution_count": 25,
     "metadata": {},
     "output_type": "execute_result"
    }
   ],
   "source": [
    "a.diagonal()\n"
   ]
  },
  {
   "cell_type": "code",
   "execution_count": 26,
   "metadata": {},
   "outputs": [],
   "source": [
    "qwert= {\"name\": \"Naveen\",\n",
    "        \"age\": 25\n",
    "        }"
   ]
  },
  {
   "cell_type": "code",
   "execution_count": 28,
   "metadata": {},
   "outputs": [
    {
     "data": {
      "text/plain": [
       "'HELLO'"
      ]
     },
     "execution_count": 28,
     "metadata": {},
     "output_type": "execute_result"
    }
   ],
   "source": [
    "\"hello\".upper()"
   ]
  },
  {
   "cell_type": "code",
   "execution_count": null,
   "metadata": {},
   "outputs": [],
   "source": [
    "class teacher:\n",
    "    def __init__(self, name:str, age:int) -> None:\n",
    "        self.name = name\n",
    "        self.age = age\n",
    "\n",
    "    def shout_name(self):\n",
    "        print(f\"I AM {self.name.upper()}\")\n",
    "\n",
    "    def say_age(self):\n",
    "        print(f\"My age is {self.age}\")\n",
    "    \n",
    "    def introduce(self):\n",
    "        self.shout_name()\n",
    "        self.say_age()"
   ]
  },
  {
   "cell_type": "code",
   "execution_count": 40,
   "metadata": {},
   "outputs": [
    {
     "name": "stdout",
     "output_type": "stream",
     "text": [
      "i am Naveen\n",
      "My age is 25\n"
     ]
    }
   ],
   "source": [
    "class person:\n",
    "    def __init__(self, name:str, age:int) -> None:\n",
    "        self.name = name\n",
    "        self.age = age\n",
    "\n",
    "    def say_name(self):\n",
    "        return f\"I am {self.name}\"\n",
    "\n",
    "    def say_age(self):\n",
    "        return f\"My age is {self.age}\"\n",
    "    \n",
    "    def introduce(self):\n",
    "        return self.say_name()+ \"\\n\"+ self.say_age()\n",
    "\n",
    "me = person(\"Naveen\", 25)\n",
    "print(me.introduce())"
   ]
  },
  {
   "cell_type": "code",
   "execution_count": 42,
   "metadata": {},
   "outputs": [
    {
     "name": "stdout",
     "output_type": "stream",
     "text": [
      "I AM NAVEEN\n"
     ]
    }
   ],
   "source": [
    "class Student(person):\n",
    "    def __init__(self, name: str, age: int) -> None:\n",
    "        super().__init__(name, age)\n",
    "        self.marks = np.zeros((5,1))\n",
    "    def shout_name(self):\n",
    "        return self.say_name().upper()\n",
    "    \n",
    "\n",
    "class Teacher(person):\n",
    "    def __init__(self, name: str, age: int) -> None:\n",
    "        super().__init__(name, age)\n",
    "\n",
    "me = Student(\"Naveen\", 25)\n",
    "print(me.shout_name())"
   ]
  },
  {
   "cell_type": "code",
   "execution_count": null,
   "metadata": {},
   "outputs": [],
   "source": []
  }
 ],
 "metadata": {
  "kernelspec": {
   "display_name": "base",
   "language": "python",
   "name": "python3"
  },
  "language_info": {
   "codemirror_mode": {
    "name": "ipython",
    "version": 3
   },
   "file_extension": ".py",
   "mimetype": "text/x-python",
   "name": "python",
   "nbconvert_exporter": "python",
   "pygments_lexer": "ipython3",
   "version": "3.9.13"
  }
 },
 "nbformat": 4,
 "nbformat_minor": 2
}
