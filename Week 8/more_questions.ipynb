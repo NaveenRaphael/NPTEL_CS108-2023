{
 "cells": [
  {
   "cell_type": "markdown",
   "metadata": {},
   "source": [
    "Question 1\n",
    "=\n",
    "Make a function that takes a string, and returns the vowels in it as a list"
   ]
  },
  {
   "cell_type": "code",
   "execution_count": 17,
   "metadata": {},
   "outputs": [
    {
     "name": "stdout",
     "output_type": "stream",
     "text": [
      "['e', 'o', 'e', 'e']\n"
     ]
    }
   ],
   "source": [
    "def vowels(s:str):\n",
    "    a = []\n",
    "    for letter in s:\n",
    "        if letter in (\"a\", 'e', 'i', 'o', 'u'):\n",
    "            a.append(letter)\n",
    "    return a\n",
    "\n",
    "temp = vowels(\"Hello there!\")\n"
   ]
  },
  {
   "cell_type": "markdown",
   "metadata": {},
   "source": [
    "Question 2\n",
    "=\n",
    "Pig latin!\n",
    "Make a function that when given a string, translates that to pig latin\n",
    "\n",
    "Rules of pig latin:\n",
    "- if the word starts with a/multiple consonant, shift the consonant(s) to the end and add \"ay\" to the end\n",
    "- if the word starts with a vowel, add \"yay\" to the end\n",
    "\n",
    "Example: \n",
    "- Hello There -> ellohay erethay\n",
    "- Chocolate ice-cream is my favorite -> ocolatechay ice-creamyay isyay myay avoritefay "
   ]
  },
  {
   "cell_type": "code",
   "execution_count": 22,
   "metadata": {},
   "outputs": [
    {
     "name": "stdout",
     "output_type": "stream",
     "text": [
      "ellohay erethay iyay ikelay ocolatechay \n"
     ]
    }
   ],
   "source": [
    "def is_vowel(s:str):\n",
    "    return (s in ('a', 'e', 'i', 'o', 'u'))\n",
    "\n",
    "def pig_latin(s:str):\n",
    "    translated = \"\"\n",
    "    for word in s.lower().split():\n",
    "        if is_vowel(word[0]):\n",
    "            translated += word + \"yay \"\n",
    "        else:\n",
    "            k = 0\n",
    "            while (k < len(word)) and (not is_vowel(word[k])) :\n",
    "                k = k+1\n",
    "            translated += word[k:] + word[:k] + \"ay \"\n",
    "    return translated\n",
    "\n",
    "print(pig_latin(\"Hello there I like chocolate\"))"
   ]
  },
  {
   "cell_type": "markdown",
   "metadata": {},
   "source": [
    "Question 3\n",
    "=\n",
    "Return the number of hours and minutes slept when given the time of going to sleep and waking up"
   ]
  },
  {
   "cell_type": "code",
   "execution_count": null,
   "metadata": {},
   "outputs": [],
   "source": [
    "import datetime\n",
    "\n",
    "def duration_of_sleep(sleep_time:datetime.datetime, wake_up_time: datetime.datetime):\n",
    "    duration = wake_up_time - sleep_time\n",
    "    return duration\n"
   ]
  },
  {
   "cell_type": "markdown",
   "metadata": {},
   "source": [
    "Question 4\n",
    "=\n",
    "Find the number of days since your birthday"
   ]
  },
  {
   "cell_type": "code",
   "execution_count": null,
   "metadata": {},
   "outputs": [],
   "source": []
  },
  {
   "cell_type": "markdown",
   "metadata": {},
   "source": [
    "Question 5\n",
    "=\n",
    "Make a program that reads a file and plots the following:\n",
    "- The number of vowels\n",
    "- The number of consonants\n",
    "- The number of other characters\n",
    "\n",
    "and the following in a different graph\n",
    "- The number of combinations with 2 consecutive vowels\n",
    "- The number of times we have a vowel followed by a consonant\n",
    "- The number of times we have a consonant followed by a vowel\n",
    "- The number of double consonants"
   ]
  },
  {
   "cell_type": "code",
   "execution_count": 36,
   "metadata": {},
   "outputs": [
    {
     "data": {
      "text/plain": [
       "<BarContainer object of 3 artists>"
      ]
     },
     "execution_count": 36,
     "metadata": {},
     "output_type": "execute_result"
    },
    {
     "data": {
      "image/png": "[encoded data removed]",
      "text/plain": [
       "<Figure size 640x480 with 1 Axes>"
      ]
     },
     "metadata": {},
     "output_type": "display_data"
    }
   ],
   "source": [
    "import matplotlib.pyplot as plt\n",
    "\n",
    "txt = \"\"\n",
    "with open(\"lorem.txt\") as f:\n",
    "    txt = f.read()\n",
    "\n",
    "\n",
    "def is_consonant(s:str):\n",
    "    return s.lower() in \"bcdfghjklmnpqrstvwxyz\"\n",
    "\n",
    "def is_anything_else(s:str):\n",
    "    return not( is_vowel(s) or is_consonant(s))\n",
    "\n",
    "num_vowel = len(list(filter(is_vowel, txt)))\n",
    "num_consonant = len(list(filter(is_consonant, txt)))\n",
    "num_others = len(list(filter(is_anything_else, txt)))\n",
    "\n",
    "plt.bar([\"vowel\", \"consonant\", \"others\"], [num_vowel, num_consonant, num_others])"
   ]
  },
  {
   "cell_type": "code",
   "execution_count": null,
   "metadata": {},
   "outputs": [],
   "source": []
  },
  {
   "cell_type": "markdown",
   "metadata": {},
   "source": [
    "Question 6\n",
    "=\n",
    "Given a shopping list, calculate the cost of the items\n",
    "(Assume the cost of the individual items are known, in a dictionary)"
   ]
  },
  {
   "cell_type": "code",
   "execution_count": 44,
   "metadata": {},
   "outputs": [
    {
     "name": "stdout",
     "output_type": "stream",
     "text": [
      "bubblegum not in shop, sorry!\n",
      "The cost of your shopping list is  1400\n"
     ]
    }
   ],
   "source": [
    "from typing import Dict\n",
    "\n",
    "\n",
    "a  = {\"hello\": 5}\n",
    "\n",
    "def shoppping_list_calculate(a: Dict[str, int]):\n",
    "    costs = {\n",
    "        'bread': 20,\n",
    "        'banana': 40,\n",
    "        'chocolate': 10,\n",
    "        'cake' : 750,\n",
    "\n",
    "    }\n",
    "    cost_so_far = 0\n",
    "    for item in a:\n",
    "        if item in costs:\n",
    "            cost_so_far += costs[item]*a[item]\n",
    "        else:\n",
    "            print(f\"{item} not in shop, sorry!\")\n",
    "    return cost_so_far\n",
    "\n",
    "print(\"The cost of your shopping list is\", shoppping_list_calculate(\n",
    "    {\n",
    "        'bread': 20,\n",
    "        \"chocolate\": 100,\n",
    "        \"bubblegum\" : 12\n",
    "    }\n",
    "))\n",
    "    "
   ]
  },
  {
   "cell_type": "code",
   "execution_count": 42,
   "metadata": {},
   "outputs": [
    {
     "data": {
      "text/plain": [
       "dict"
      ]
     },
     "execution_count": 42,
     "metadata": {},
     "output_type": "execute_result"
    }
   ],
   "source": [
    "type( {\"hello\": 5})"
   ]
  },
  {
   "cell_type": "markdown",
   "metadata": {},
   "source": [
    "Question 7\n",
    "=\n",
    "Find the \"score\" of a word; \"Hello\" = 8 + 5 + 11 + 11 + 15 = 50\n",
    "\n"
   ]
  },
  {
   "cell_type": "code",
   "execution_count": null,
   "metadata": {},
   "outputs": [],
   "source": []
  },
  {
   "cell_type": "markdown",
   "metadata": {},
   "source": [
    "Question 8\n",
    "=\n",
    "\n",
    "Convert a list of tuples to a tuple of lists"
   ]
  },
  {
   "cell_type": "code",
   "execution_count": null,
   "metadata": {},
   "outputs": [],
   "source": []
  },
  {
   "cell_type": "markdown",
   "metadata": {},
   "source": [
    "Question 9\n",
    "=\n",
    "\n",
    "List all possible anagrams of a word (Assume the word doesnt have repeated letters)"
   ]
  },
  {
   "cell_type": "code",
   "execution_count": null,
   "metadata": {},
   "outputs": [],
   "source": []
  },
  {
   "cell_type": "markdown",
   "metadata": {},
   "source": [
    "Question 10\n",
    "=\n",
    "Print all the folders and files in a given directory recursively"
   ]
  },
  {
   "cell_type": "code",
   "execution_count": null,
   "metadata": {},
   "outputs": [],
   "source": []
  },
  {
   "cell_type": "markdown",
   "metadata": {},
   "source": []
  },
  {
   "cell_type": "code",
   "execution_count": null,
   "metadata": {},
   "outputs": [],
   "source": [
    "def is_vowel(c:str):\n",
    "    return c.lower() in ('a', 'e', 'i', 'o', 'u')\n",
    "\n",
    "def pig_latin2(s:str)->str:\n",
    "    ret = \"\";\n",
    "    for word in s.lower().split():\n",
    "        if is_vowel(word[0]):\n",
    "            ret += word + \"yay \"\n",
    "        else:\n",
    "            k = 0\n",
    "            while k<len(word) and not is_vowel(word[k]):\n",
    "                k=k+1\n",
    "            ret += word[k:]+word[:k]+ \"ay \"\n",
    "    return ret\n",
    "\n",
    "print(pig_latin(\"Chocolate ice-cream is my favorite\")) "
   ]
  }
 ],
 "metadata": {
  "kernelspec": {
   "display_name": "base",
   "language": "python",
   "name": "python3"
  },
  "language_info": {
   "codemirror_mode": {
    "name": "ipython",
    "version": 3
   },
   "file_extension": ".py",
   "mimetype": "text/x-python",
   "name": "python",
   "nbconvert_exporter": "python",
   "pygments_lexer": "ipython3",
   "version": "3.9.13"
  },
  "orig_nbformat": 4
 },
 "nbformat": 4,
 "nbformat_minor": 2
}
