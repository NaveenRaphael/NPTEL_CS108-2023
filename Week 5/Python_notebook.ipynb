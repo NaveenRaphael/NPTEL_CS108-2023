{
 "cells": [
  {
   "cell_type": "code",
   "execution_count": 2,
   "id": "e4ef898b",
   "metadata": {},
   "outputs": [
    {
     "name": "stdout",
     "output_type": "stream",
     "text": [
      "{1: 100, 23: 10202}\n"
     ]
    }
   ],
   "source": [
    "a = {}\n",
    "\n",
    "a[1] = 100\n",
    "\n",
    "a[23] = 10202\n",
    "\n",
    "print(a)"
   ]
  },
  {
   "cell_type": "code",
   "execution_count": 3,
   "id": "0c50e105",
   "metadata": {},
   "outputs": [
    {
     "name": "stdout",
     "output_type": "stream",
     "text": [
      "calculating 50\n",
      "calculating 49\n",
      "calculating 48\n",
      "calculating 47\n",
      "calculating 46\n",
      "calculating 45\n",
      "calculating 44\n",
      "calculating 43\n",
      "calculating 42\n",
      "calculating 41\n",
      "calculating 40\n",
      "calculating 39\n",
      "calculating 38\n",
      "calculating 37\n",
      "calculating 36\n",
      "calculating 35\n",
      "calculating 34\n",
      "calculating 33\n",
      "calculating 32\n",
      "calculating 31\n",
      "calculating 30\n",
      "calculating 29\n",
      "calculating 28\n",
      "calculating 27\n",
      "calculating 26\n",
      "calculating 25\n",
      "calculating 24\n",
      "calculating 23\n",
      "calculating 22\n",
      "calculating 21\n",
      "calculating 20\n",
      "calculating 19\n",
      "calculating 18\n",
      "calculating 17\n",
      "calculating 16\n",
      "calculating 15\n",
      "calculating 14\n",
      "calculating 13\n",
      "calculating 12\n",
      "calculating 11\n",
      "calculating 10\n",
      "calculating 9\n",
      "calculating 8\n",
      "calculating 7\n",
      "calculating 6\n",
      "calculating 5\n",
      "calculating 4\n",
      "calculating 3\n",
      "calculating 2\n",
      "12586269025\n"
     ]
    }
   ],
   "source": [
    "fibonnaci_numbers = {0: 0, 1: 1}\n",
    "\n",
    "def fibo(n):\n",
    "    if n in fibonnaci_numbers:\n",
    "        return fibonnaci_numbers[n]\n",
    "    print(f\"calculating {n}\")\n",
    "    if n <= 1:\n",
    "        return n\n",
    "    number = fibo(n-1) + fibo(n-2)\n",
    "    fibonnaci_numbers[n] = number\n",
    "    return number\n",
    "\n",
    "\n",
    "print(fibo(50))"
   ]
  },
  {
   "cell_type": "code",
   "execution_count": 4,
   "id": "e9cb1ad2",
   "metadata": {},
   "outputs": [
    {
     "data": {
      "text/plain": [
       "3"
      ]
     },
     "execution_count": 4,
     "metadata": {},
     "output_type": "execute_result"
    }
   ],
   "source": [
    "fibo(4)"
   ]
  },
  {
   "cell_type": "code",
   "execution_count": 5,
   "id": "918df289",
   "metadata": {},
   "outputs": [
    {
     "name": "stdout",
     "output_type": "stream",
     "text": [
      "calculating 51\n"
     ]
    },
    {
     "data": {
      "text/plain": [
       "20365011074"
      ]
     },
     "execution_count": 5,
     "metadata": {},
     "output_type": "execute_result"
    }
   ],
   "source": [
    "fibo(51)"
   ]
  },
  {
   "cell_type": "code",
   "execution_count": 6,
   "id": "2a7a6465",
   "metadata": {},
   "outputs": [
    {
     "data": {
      "text/plain": [
       "array([1, 2, 3])"
      ]
     },
     "execution_count": 6,
     "metadata": {},
     "output_type": "execute_result"
    }
   ],
   "source": [
    "import numpy as np\n",
    "\n",
    "np.array([1,2,3])"
   ]
  },
  {
   "cell_type": "code",
   "execution_count": 7,
   "id": "00f024de",
   "metadata": {},
   "outputs": [
    {
     "data": {
      "text/plain": [
       "28657"
      ]
     },
     "execution_count": 7,
     "metadata": {},
     "output_type": "execute_result"
    }
   ],
   "source": [
    "fibo(23)"
   ]
  },
  {
   "cell_type": "code",
   "execution_count": 8,
   "id": "49e4505c",
   "metadata": {},
   "outputs": [],
   "source": [
    "import sympy as sp"
   ]
  },
  {
   "cell_type": "markdown",
   "id": "685b9c27",
   "metadata": {},
   "source": [
    "Hello There\n",
    "===\n",
    "\n",
    "$x^2 + 3x + 4$\n",
    "\n",
    "- bullet point\n",
    "- more bullet points"
   ]
  },
  {
   "cell_type": "code",
   "execution_count": 11,
   "id": "93fc6e43",
   "metadata": {},
   "outputs": [
    {
     "data": {
      "text/latex": [
       "$\\displaystyle x^{2} + y^{2}$"
      ],
      "text/plain": [
       "x**2 + y**2"
      ]
     },
     "execution_count": 11,
     "metadata": {},
     "output_type": "execute_result"
    }
   ],
   "source": [
    "x,y,z = sp.symbols(\"x y z\")\n",
    "x**2 + y**2"
   ]
  },
  {
   "cell_type": "code",
   "execution_count": 12,
   "id": "7d4d7ec4",
   "metadata": {},
   "outputs": [
    {
     "name": "stdout",
     "output_type": "stream",
     "text": [
      "x**2 + y**2\n"
     ]
    }
   ],
   "source": [
    "print(x**2 + y**2)"
   ]
  },
  {
   "cell_type": "code",
   "execution_count": 13,
   "id": "840f8ca3",
   "metadata": {},
   "outputs": [
    {
     "data": {
      "text/plain": [
       "6765"
      ]
     },
     "execution_count": 13,
     "metadata": {},
     "output_type": "execute_result"
    }
   ],
   "source": [
    "fibo(20)"
   ]
  },
  {
   "cell_type": "code",
   "execution_count": 14,
   "id": "a5f60519",
   "metadata": {},
   "outputs": [
    {
     "data": {
      "text/plain": [
       "{1, 2, 4, 6}"
      ]
     },
     "execution_count": 14,
     "metadata": {},
     "output_type": "execute_result"
    }
   ],
   "source": [
    "q = set([1,2,4,6,2,1])\n",
    "q"
   ]
  },
  {
   "cell_type": "code",
   "execution_count": 15,
   "id": "c0d91a14",
   "metadata": {},
   "outputs": [
    {
     "data": {
      "text/plain": [
       "{3, 11, 15}"
      ]
     },
     "execution_count": 15,
     "metadata": {},
     "output_type": "execute_result"
    }
   ],
   "source": [
    "w= set([2,4,11,15,3])\n",
    "\n",
    "w.difference(q)"
   ]
  },
  {
   "cell_type": "code",
   "execution_count": 19,
   "id": "557741f2",
   "metadata": {},
   "outputs": [
    {
     "data": {
      "text/plain": [
       "[111111, 222222, 333333, 444444, 555555, 666666, 777777, 888888, 999999]"
      ]
     },
     "execution_count": 19,
     "metadata": {},
     "output_type": "execute_result"
    }
   ],
   "source": [
    "## Output of this function is all numbers like 111111, 222222...\n",
    "\n",
    "def generate(n):\n",
    "    numbers = []\n",
    "    for i in range(1,10):\n",
    "        numbers.append(int(str(i)*n))\n",
    "    return numbers\n",
    "\n",
    "generate(6)"
   ]
  },
  {
   "cell_type": "code",
   "execution_count": 30,
   "id": "e2ba5482",
   "metadata": {},
   "outputs": [
    {
     "name": "stdout",
     "output_type": "stream",
     "text": [
      "111111111, 1\n",
      "37037037, 3\n",
      "12345679, 9\n",
      "222222222, 1\n",
      "111111111, 2\n",
      "74074074, 3\n",
      "37037037, 6\n",
      "24691358, 9\n",
      "333333333, 1\n",
      "111111111, 3\n",
      "37037037, 9\n",
      "444444444, 1\n",
      "222222222, 2\n",
      "148148148, 3\n",
      "111111111, 4\n",
      "74074074, 6\n",
      "49382716, 9\n",
      "555555555, 1\n",
      "185185185, 3\n",
      "111111111, 5\n",
      "61728395, 9\n",
      "666666666, 1\n",
      "333333333, 2\n",
      "222222222, 3\n",
      "111111111, 6\n",
      "74074074, 9\n",
      "777777777, 1\n",
      "259259259, 3\n",
      "111111111, 7\n",
      "86419753, 9\n",
      "888888888, 1\n",
      "444444444, 2\n",
      "296296296, 3\n",
      "222222222, 4\n",
      "148148148, 6\n",
      "111111111, 8\n",
      "98765432, 9\n",
      "999999999, 1\n",
      "333333333, 3\n",
      "111111111, 9\n"
     ]
    }
   ],
   "source": [
    "m = 0\n",
    "\n",
    "my_num_digit = 9\n",
    "\n",
    "def num_digit(n):\n",
    "    return len(str(n))\n",
    "\n",
    "for number in generate(my_num_digit):\n",
    "    for digit in range(1, 10):\n",
    "        if number % digit != 0:\n",
    "            continue\n",
    "        divided = int(number/digit)\n",
    "        print(f\"{divided}, {digit}\")\n",
    "        if num_digit(divided) != (my_num_digit-1):\n",
    "            continue\n",
    "\n",
    "        if divided>m:\n",
    "            m = divided\n",
    "\n"
   ]
  },
  {
   "cell_type": "code",
   "execution_count": 24,
   "id": "19461737",
   "metadata": {},
   "outputs": [
    {
     "data": {
      "text/plain": [
       "95238"
      ]
     },
     "execution_count": 24,
     "metadata": {},
     "output_type": "execute_result"
    }
   ],
   "source": [
    "m"
   ]
  },
  {
   "cell_type": "code",
   "execution_count": 31,
   "id": "9747856d",
   "metadata": {},
   "outputs": [
    {
     "data": {
      "text/plain": [
       "[0,\n",
       " 98765432,\n",
       " 197530864,\n",
       " 296296296,\n",
       " 395061728,\n",
       " 493827160,\n",
       " 592592592,\n",
       " 691358024,\n",
       " 790123456,\n",
       " 888888888]"
      ]
     },
     "execution_count": 31,
     "metadata": {},
     "output_type": "execute_result"
    }
   ],
   "source": [
    "[m*i for i in range(10)]"
   ]
  },
  {
   "cell_type": "markdown",
   "id": "9f0b209e",
   "metadata": {},
   "source": [
    "# Due to a terrible throatache and cough, I will stop the problem solving session now, if you have any questions feel free to ask. I will be here till 8pm\n",
    "\n",
    "\n",
    "Also, feel free to give suggestions on how I can improve my class..."
   ]
  },
  {
   "cell_type": "code",
   "execution_count": null,
   "id": "e0042aa7",
   "metadata": {},
   "outputs": [],
   "source": []
  }
 ],
 "metadata": {
  "kernelspec": {
   "display_name": "Python 3 (ipykernel)",
   "language": "python",
   "name": "python3"
  },
  "language_info": {
   "codemirror_mode": {
    "name": "ipython",
    "version": 3
   },
   "file_extension": ".py",
   "mimetype": "text/x-python",
   "name": "python",
   "nbconvert_exporter": "python",
   "pygments_lexer": "ipython3",
   "version": "3.9.13"
  }
 },
 "nbformat": 4,
 "nbformat_minor": 5
}
